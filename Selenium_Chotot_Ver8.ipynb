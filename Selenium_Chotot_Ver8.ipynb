{
 "cells": [
  {
   "cell_type": "code",
   "execution_count": 111,
   "metadata": {},
   "outputs": [
    {
     "name": "stdout",
     "output_type": "stream",
     "text": [
      "Import package..........\n"
     ]
    }
   ],
   "source": [
    "print(\"Import package..........\")\n",
    "from selenium import webdriver\n",
    "from selenium.webdriver.common.keys import Keys\n",
    "import pandas as pd\n",
    "from numpy import nan as NaN\n",
    "import os\n",
    "import time\n",
    "from selenium.webdriver.chrome.options import Options\n",
    "import json"
   ]
  },
  {
   "cell_type": "code",
   "execution_count": 112,
   "metadata": {},
   "outputs": [
    {
     "name": "stdout",
     "output_type": "stream",
     "text": [
      "Init xpath..........\n"
     ]
    }
   ],
   "source": [
    "print(\"Init xpath..........\")\n",
    "data_xpath={\"Tên người dùng\":[],\"SĐT\":[],\"Địa chỉ\":[],\"Khu vực\":[],\"Mặt hàng\":[],\"Giá\":[],\"Mô tả\":[],\"Thời gian đăng\":[],\"Loại tin\":[]}\n",
    "data_xpath['Tên người dùng']='//*[@id=\"app\"]/div[2]/main/article/div[1]/div[2]/div[2]/div/div[2]/div/div[1]/div/div[2]/div[1]'\n",
    "data_xpath['Giá']='//*[@id=\"app\"]/div[2]/main/article/div[1]/div[2]/div[1]/div[2]/div[2]/div[1]/div[1]/span[1]/span[1]'\n",
    "data_xpath['Mặt hàng']='//*[@id=\"app\"]/div[2]/main/article/div[1]/div[2]/div[1]/div[2]/div[1]/h1'\n",
    "data_xpath['Mô tả']='//*[@id=\"app\"]/div[2]/main/article/div[1]/div[2]/div[1]/div[2]/p'\n",
    "data_xpath['SĐT']='//*[@id=\"app\"]/div[2]/main/article/div[1]/div[2]/div[2]/div/div[2]/div/div[2]/div[1]/h4/strong'\n",
    "data_xpath['Địa chỉ']='//*[@id=\"app\"]/div[2]/main/article/div[1]/div[2]/div[2]/div/div[2]/div/div[1]/div/div[2]/div[2]/span'\n",
    "data_xpath['Thời gian đăng']='//*[@id=\"app\"]/div[2]/main/article/div[1]/div[2]/div[1]/div[1]/div[2]/span'\n",
    "data_xpath['Khu vực']='//*[@id=\"app\"]/div[2]/main/article/div[1]/div[2]/div[1]/div[2]/div[4]/div/div[2]/div'\n",
    "data_xpath['Loại tin']='//*[@id=\"app\"]/div[2]/main/article/div[1]/div[2]/div[1]/div[2]/div[3]/div/div/div/div[2]/span'"
   ]
  },
  {
   "cell_type": "code",
   "execution_count": 113,
   "metadata": {},
   "outputs": [],
   "source": [
    "def Crawl_item(i):\n",
    "    data={}\n",
    "    data['Stt']=\"Item \"+str(i)+\" page \"+str(page)\n",
    "    try:\n",
    "        Id=browser.current_url.split('/')[5].split('.')[0]\n",
    "        data['Id']=Id\n",
    "    except:\n",
    "        data['Id']=NaN\n",
    "    try:\n",
    "        data['Tên người dùng']=browser.find_element_by_xpath(data_xpath['Tên người dùng']).text\n",
    "    except:\n",
    "        data['Tên người dùng']=NaN\n",
    "    try:\n",
    "        data['SĐT']=browser.find_element_by_id(\"sms_btn\").get_attribute(\"href\").split('sms:')[1]\n",
    "    except:\n",
    "        data['SĐT']=NaN\n",
    "    try:\n",
    "        data['Địa chỉ']=browser.find_element_by_xpath(data_xpath['Địa chỉ']).text\n",
    "    except:\n",
    "        data['Địa chỉ']=NaN\n",
    "    try:\n",
    "        data['Khu vực']=browser.find_element_by_xpath(data_xpath['Khu vực']).text\n",
    "    except:\n",
    "        data['Khu vực']=NaN\n",
    "    try:\n",
    "        data['Giá']=browser.find_element_by_xpath(data_xpath['Giá']).text\n",
    "    except:\n",
    "        data['Giá']=NaN\n",
    "    try:\n",
    "        data['Mô tả']=browser.find_element_by_xpath(data_xpath['Mô tả']).text\n",
    "    except:\n",
    "        data['Mô tả']=NaN\n",
    "    try:\n",
    "        data['Mặt hàng']=browser.find_element_by_xpath(data_xpath['Mặt hàng']).text\n",
    "    except:\n",
    "        data['Mặt hàng']=NaN\n",
    "    try:\n",
    "        data['Loại tin']=browser.find_element_by_xpath(data_xpath['Loại tin']).text\n",
    "    except:\n",
    "        data['Loại tin']='Cần bán'\n",
    "    try:\n",
    "        data['Thời gian đăng']=browser.find_element_by_xpath(data_xpath['Thời gian đăng']).text\n",
    "    except:\n",
    "        data['Thời gian đăng']=NaN\n",
    "    data['Url']=browser.current_url\n",
    "    line = json.dumps(dict(data), ensure_ascii=False)+\"\\n\"\n",
    "    file.write(line)"
   ]
  },
  {
   "cell_type": "code",
   "execution_count": 114,
   "metadata": {},
   "outputs": [],
   "source": [
    "# chrome_options = webdriver.ChromeOptions()\n",
    "# prefs = {\"profile.managed_default_content_settings.images\": 2}\n",
    "# chrome_options.add_experimental_option(\"prefs\", prefs)\n",
    "# browser = webdriver.Chrome(chrome_options=chrome_options)\n",
    "# browser.maximize_window()"
   ]
  },
  {
   "cell_type": "code",
   "execution_count": 115,
   "metadata": {},
   "outputs": [
    {
     "name": "stdout",
     "output_type": "stream",
     "text": [
      "Setting chorme..........\n"
     ]
    },
    {
     "name": "stderr",
     "output_type": "stream",
     "text": [
      "/home/bkic611/anaconda3/lib/python3.7/site-packages/ipykernel_launcher.py:5: DeprecationWarning: use options instead of chrome_options\n",
      "  \"\"\"\n"
     ]
    }
   ],
   "source": [
    "print(\"Setting chorme..........\")\n",
    "chrome_options = Options()\n",
    "chrome_options.add_argument(\"--headless\")\n",
    "chrome_options.add_argument(\"--window-size=1920x1080\")\n",
    "browser = webdriver.Chrome(chrome_options=chrome_options)"
   ]
  },
  {
   "cell_type": "code",
   "execution_count": 116,
   "metadata": {},
   "outputs": [
    {
     "name": "stdout",
     "output_type": "stream",
     "text": [
      "Crawl quan  quan-hai-ba-trung\n",
      "Crawl item  0  in page  753 .... Done in  6.845641851425171 s.\n",
      "Crawl item  1  in page  753 .... Done in  5.9815943241119385 s.\n",
      "Crawl item  0  in page  754 .... Done in  3.8431999683380127 s.\n",
      "Crawl item  1  in page  754 .... Done in  1.9442698955535889 s.\n",
      "Crawl item  0  in page  755 .... Done in  2.307912826538086 s.\n",
      "Crawl item  1  in page  755 .... Done in  1.7486696243286133 s.\n",
      "Crawl item  0  in page  756 .... Done in  2.3787100315093994 s.\n",
      "Crawl item  1  in page  756 .... Done in  2.300511598587036 s.\n",
      "Error\n",
      "Crawl quan  quan-cau-giay\n",
      "Crawl item  0  in page  753 .... Done in  2.157238721847534 s.\n",
      "Crawl item  1  in page  753 .... Done in  1.8045461177825928 s.\n"
     ]
    },
    {
     "ename": "KeyboardInterrupt",
     "evalue": "",
     "output_type": "error",
     "traceback": [
      "\u001b[0;31m---------------------------------------------------------------------------\u001b[0m",
      "\u001b[0;31mKeyboardInterrupt\u001b[0m                         Traceback (most recent call last)",
      "\u001b[0;32m<ipython-input-116-f29859207254>\u001b[0m in \u001b[0;36m<module>\u001b[0;34m()\u001b[0m\n\u001b[1;32m      8\u001b[0m         \u001b[0mpage_link\u001b[0m\u001b[0;34m=\u001b[0m\u001b[0;34m\"https://www.chotot.com/ha-noi/{0}/mua-ban?page={1}\"\u001b[0m\u001b[0;34m.\u001b[0m\u001b[0mformat\u001b[0m\u001b[0;34m(\u001b[0m\u001b[0mquan\u001b[0m\u001b[0;34m,\u001b[0m\u001b[0mpage\u001b[0m\u001b[0;34m)\u001b[0m\u001b[0;34m\u001b[0m\u001b[0m\n\u001b[1;32m      9\u001b[0m         \u001b[0mbrowser\u001b[0m\u001b[0;34m.\u001b[0m\u001b[0mget\u001b[0m\u001b[0;34m(\u001b[0m\u001b[0mpage_link\u001b[0m\u001b[0;34m)\u001b[0m\u001b[0;34m\u001b[0m\u001b[0m\n\u001b[0;32m---> 10\u001b[0;31m         \u001b[0mtime\u001b[0m\u001b[0;34m.\u001b[0m\u001b[0msleep\u001b[0m\u001b[0;34m(\u001b[0m\u001b[0;36m2\u001b[0m\u001b[0;34m)\u001b[0m\u001b[0;34m\u001b[0m\u001b[0m\n\u001b[0m\u001b[1;32m     11\u001b[0m         \u001b[0mItem_links\u001b[0m\u001b[0;34m=\u001b[0m\u001b[0mbrowser\u001b[0m\u001b[0;34m.\u001b[0m\u001b[0mfind_elements_by_xpath\u001b[0m\u001b[0;34m(\u001b[0m\u001b[0;34m\"\"\"//*[@id=\"app\"]/div[2]/main/div/div/div[1]/main/div/div[1]/div[6]/div/div[2]/ul/div/li/a\"\"\"\u001b[0m\u001b[0;34m)\u001b[0m\u001b[0;34m\u001b[0m\u001b[0m\n\u001b[1;32m     12\u001b[0m         \u001b[0mlinks_element\u001b[0m\u001b[0;34m=\u001b[0m\u001b[0;34m[\u001b[0m\u001b[0;34m]\u001b[0m\u001b[0;34m\u001b[0m\u001b[0m\n",
      "\u001b[0;31mKeyboardInterrupt\u001b[0m: "
     ]
    }
   ],
   "source": [
    "print(\"Starting crawl..........\")\n",
    "Quan={'quan-ba-dinh','quan-bac-tu-liem','quan-cau-giay','quan-dong-da','quan-ha-dong','quan-hai-ba-trung','quan-hoan-kiem','quan-hoang-mai','quan-long-bien','quan-nam-tu-liem','quan-tay-ho','quan-thanh-xuan','huyen-ba-vi','huyen-chuong-my','huyen-dan-phuong'}\n",
    "for quan in Quan:\n",
    "    file = open(\"Data_{0}.json\".format(quan), \"w\",encoding='utf-8')\n",
    "    max_page=10000\n",
    "    for page in range(1,max_page):\n",
    "        #Browser mở từng page trên chotot.Mỗi page có 20 item\n",
    "        page_link=\"https://www.chotot.com/ha-noi/{0}/mua-ban?page={1}\".format(quan,page)\n",
    "        browser.get(page_link)\n",
    "        time.sleep(3)\n",
    "        Item_links=browser.find_elements_by_xpath(\"\"\"//*[@id=\"app\"]/div[2]/main/div/div/div[1]/main/div/div[1]/div[6]/div/div[2]/ul/div/li/a\"\"\")\n",
    "        links_element=[]\n",
    "        #Lấy link của từng item\n",
    "        for link in Item_links:\n",
    "            links_element.append(link.get_attribute(\"href\"))\n",
    "        #Crawl dữ liệu của 20 item\n",
    "        for i in range(0,20):\n",
    "            start = time.time()\n",
    "            try:\n",
    "                browser.get(links_element[i])\n",
    "            except:\n",
    "                continue\n",
    "            time.sleep(1)\n",
    "            print(\"Crawl item \",i,\" in page \",page,\"....\",end=' ')\n",
    "            Crawl_item(i)\n",
    "            print(\"Done in \",time.time() - start,\"s.\")\n",
    "        time.sleep(1)\n",
    "        browser.get(page_link)\n",
    "        time.sleep(1)\n",
    "        try:\n",
    "            next_page=browser.find_element_by_class_name(\"last\")\n",
    "        except:\n",
    "            print(\"Error\")\n",
    "            break\n",
    "    file.close()"
   ]
  }
 ],
 "metadata": {
  "kernelspec": {
   "display_name": "Python 3",
   "language": "python",
   "name": "python3"
  },
  "language_info": {
   "codemirror_mode": {
    "name": "ipython",
    "version": 3
   },
   "file_extension": ".py",
   "mimetype": "text/x-python",
   "name": "python",
   "nbconvert_exporter": "python",
   "pygments_lexer": "ipython3",
   "version": "3.7.0"
  }
 },
 "nbformat": 4,
 "nbformat_minor": 2
}
