{
 "cells": [
  {
   "cell_type": "code",
   "execution_count": 11,
   "metadata": {},
   "outputs": [],
   "source": [
    "from selenium import webdriver\n",
    "from selenium.webdriver.common.keys import Keys\n",
    "import pandas as pd\n",
    "from numpy import nan as NaN\n",
    "import os\n",
    "import time\n",
    "from selenium.webdriver.chrome.options import Options\n",
    "import json"
   ]
  },
  {
   "cell_type": "markdown",
   "metadata": {},
   "source": [
    "Khai báo xpath các trường dữ liệu:"
   ]
  },
  {
   "cell_type": "code",
   "execution_count": 12,
   "metadata": {},
   "outputs": [],
   "source": [
    "data_xpath={\"Tên người dùng\":[],\"SĐT\":[],\"Địa chỉ\":[],\"Khu vực\":[],\"Mặt hàng\":[],\"Giá\":[],\"Mô tả\":[],\"Thời gian đăng\":[],\"Loại tin\":[]}\n",
    "data_xpath['Tên người dùng']='//*[@id=\"app\"]/div[2]/main/article/div[1]/div[2]/div[2]/div/div[2]/div/div[1]/div/div[2]/div[1]'\n",
    "data_xpath['Giá']='//*[@id=\"app\"]/div[2]/main/article/div[1]/div[2]/div[1]/div[2]/div[2]/div[1]/div[1]/span[1]/span[1]'\n",
    "data_xpath['Mặt hàng']='//*[@id=\"app\"]/div[2]/main/article/div[1]/div[2]/div[1]/div[2]/div[1]/h1'\n",
    "data_xpath['Mô tả']='//*[@id=\"app\"]/div[2]/main/article/div[1]/div[2]/div[1]/div[2]/p'\n",
    "data_xpath['SĐT']='//*[@id=\"app\"]/div[2]/main/article/div[1]/div[2]/div[2]/div/div[2]/div/div[2]/div[1]/h4/strong'\n",
    "data_xpath['Địa chỉ']='//*[@id=\"app\"]/div[2]/main/article/div[1]/div[2]/div[2]/div/div[2]/div/div[1]/div/div[2]/div[2]/span'\n",
    "data_xpath['Thời gian đăng']='//*[@id=\"app\"]/div[2]/main/article/div[1]/div[2]/div[1]/div[1]/div[2]/span'\n",
    "data_xpath['Khu vực']='//*[@id=\"app\"]/div[2]/main/article/div[1]/div[2]/div[1]/div[2]/div[4]/div/div[2]/div'\n",
    "data_xpath['Loại tin']='//*[@id=\"app\"]/div[2]/main/article/div[1]/div[2]/div[1]/div[2]/div[3]/div/div/div/div[2]/span'"
   ]
  },
  {
   "cell_type": "markdown",
   "metadata": {},
   "source": [
    "Hàm crawl các thông tin trong 1 page:"
   ]
  },
  {
   "cell_type": "code",
   "execution_count": 13,
   "metadata": {},
   "outputs": [],
   "source": [
    "def Crawl_item(i):\n",
    "    data={}\n",
    "    data['Stt']=\"Item \"+str(i)+\" page \"+str(page)\n",
    "    try:\n",
    "        Id=browser.current_url.split('/')[5].split('.')[0]\n",
    "        data['Id']=Id\n",
    "    except:\n",
    "        data['Id']=NaN\n",
    "    try:\n",
    "        data['Tên người dùng']=browser.find_element_by_xpath(data_xpath['Tên người dùng']).text\n",
    "    except:\n",
    "        data['Tên người dùng']=NaN\n",
    "    try:\n",
    "        data['SĐT']=browser.find_element_by_id(\"sms_btn\").get_attribute(\"href\").split('sms:')[1]\n",
    "    except:\n",
    "        data['SĐT']=NaN\n",
    "    try:\n",
    "        data['Địa chỉ']=browser.find_element_by_xpath(data_xpath['Địa chỉ']).text\n",
    "    except:\n",
    "        data['Địa chỉ']=NaN\n",
    "    try:\n",
    "        data['Khu vực']=browser.find_element_by_xpath(data_xpath['Khu vực']).text\n",
    "    except:\n",
    "        data['Khu vực']=NaN\n",
    "    try:\n",
    "        data['Giá']=browser.find_element_by_xpath(data_xpath['Giá']).text\n",
    "    except:\n",
    "        data['Giá']=NaN\n",
    "    try:\n",
    "        data['Mô tả']=browser.find_element_by_xpath(data_xpath['Mô tả']).text\n",
    "    except:\n",
    "        data['Mô tả']=NaN\n",
    "    try:\n",
    "        data['Mặt hàng']=browser.find_element_by_xpath(data_xpath['Mặt hàng']).text\n",
    "    except:\n",
    "        data['Mặt hàng']=NaN\n",
    "    try:\n",
    "        data['Loại tin']=browser.find_element_by_xpath(data_xpath['Loại tin']).text\n",
    "    except:\n",
    "        data['Loại tin']='Cần bán'\n",
    "    try:\n",
    "        data['Thời gian đăng']=browser.find_element_by_xpath(data_xpath['Thời gian đăng']).text\n",
    "    except:\n",
    "        data['Thời gian đăng']=NaN\n",
    "    data['Url']=browser.current_url\n",
    "    line = json.dumps(dict(data), ensure_ascii=False)+\"\\n\"\n",
    "    file.write(line)"
   ]
  },
  {
   "cell_type": "markdown",
   "metadata": {},
   "source": [
    "Cài chrome ở chế độ mở trình duyệt và không load ảnh"
   ]
  },
  {
   "cell_type": "code",
   "execution_count": 14,
   "metadata": {},
   "outputs": [
    {
     "name": "stderr",
     "output_type": "stream",
     "text": [
      "/home/hoang/anaconda3/lib/python3.7/site-packages/ipykernel_launcher.py:4: DeprecationWarning: use options instead of chrome_options\n",
      "  after removing the cwd from sys.path.\n"
     ]
    }
   ],
   "source": [
    "chrome_options = webdriver.ChromeOptions()\n",
    "prefs = {\"profile.managed_default_content_settings.images\": 2}\n",
    "chrome_options.add_experimental_option(\"prefs\", prefs)\n",
    "browser = webdriver.Chrome(chrome_options=chrome_options)\n",
    "browser.maximize_window()"
   ]
  },
  {
   "cell_type": "markdown",
   "metadata": {},
   "source": [
    "Cài chrome ở chế độ headless"
   ]
  },
  {
   "cell_type": "code",
   "execution_count": 15,
   "metadata": {},
   "outputs": [],
   "source": [
    "# chrome_options = Options()\n",
    "# chrome_options.add_argument(\"--headless\")\n",
    "# chrome_options.add_argument(\"--window-size=1920x1080\")\n",
    "# browser = webdriver.Chrome(chrome_options=chrome_options)"
   ]
  },
  {
   "cell_type": "code",
   "execution_count": 16,
   "metadata": {},
   "outputs": [
    {
     "name": "stdout",
     "output_type": "stream",
     "text": [
      "Crawl item  0  in page  1 .... Done in  1.9080374240875244 s.\n",
      "Crawl item  1  in page  1 .... Done in  1.939988374710083 s.\n",
      "Crawl item  2  in page  1 .... Done in  1.6006946563720703 s.\n",
      "Crawl item  3  in page  1 .... Done in  1.6536016464233398 s.\n",
      "Crawl item  4  in page  1 .... Done in  1.710928201675415 s.\n",
      "Crawl item  5  in page  1 .... Done in  1.6723213195800781 s.\n",
      "Crawl item  6  in page  1 .... Done in  1.7730042934417725 s.\n",
      "Crawl item  7  in page  1 .... Done in  1.6755497455596924 s.\n",
      "Crawl item  8  in page  1 .... Done in  1.7848420143127441 s.\n"
     ]
    },
    {
     "ename": "KeyboardInterrupt",
     "evalue": "",
     "output_type": "error",
     "traceback": [
      "\u001b[0;31m---------------------------------------------------------------------------\u001b[0m",
      "\u001b[0;31mKeyboardInterrupt\u001b[0m                         Traceback (most recent call last)",
      "\u001b[0;32m<ipython-input-16-0b5aafc03a69>\u001b[0m in \u001b[0;36m<module>\u001b[0;34m()\u001b[0m\n\u001b[1;32m     18\u001b[0m         \u001b[0;32mexcept\u001b[0m\u001b[0;34m:\u001b[0m\u001b[0;34m\u001b[0m\u001b[0m\n\u001b[1;32m     19\u001b[0m                 \u001b[0;32mcontinue\u001b[0m\u001b[0;34m\u001b[0m\u001b[0m\n\u001b[0;32m---> 20\u001b[0;31m         \u001b[0mtime\u001b[0m\u001b[0;34m.\u001b[0m\u001b[0msleep\u001b[0m\u001b[0;34m(\u001b[0m\u001b[0;36m1\u001b[0m\u001b[0;34m)\u001b[0m\u001b[0;34m\u001b[0m\u001b[0m\n\u001b[0m\u001b[1;32m     21\u001b[0m         \u001b[0mprint\u001b[0m\u001b[0;34m(\u001b[0m\u001b[0;34m\"Crawl item \"\u001b[0m\u001b[0;34m,\u001b[0m\u001b[0mi\u001b[0m\u001b[0;34m,\u001b[0m\u001b[0;34m\" in page \"\u001b[0m\u001b[0;34m,\u001b[0m\u001b[0mpage\u001b[0m\u001b[0;34m,\u001b[0m\u001b[0;34m\"....\"\u001b[0m\u001b[0;34m,\u001b[0m\u001b[0mend\u001b[0m\u001b[0;34m=\u001b[0m\u001b[0;34m' '\u001b[0m\u001b[0;34m)\u001b[0m\u001b[0;34m\u001b[0m\u001b[0m\n\u001b[1;32m     22\u001b[0m         \u001b[0mCrawl_item\u001b[0m\u001b[0;34m(\u001b[0m\u001b[0mi\u001b[0m\u001b[0;34m)\u001b[0m\u001b[0;34m\u001b[0m\u001b[0m\n",
      "\u001b[0;31mKeyboardInterrupt\u001b[0m: "
     ]
    }
   ],
   "source": [
    "file = open(\"Data.json\", \"w\",encoding='utf-8')\n",
    "\n",
    "for page in range(1,700):\n",
    "    #Browser mở từng page trên chotot.Mỗi page có 20 item\n",
    "    page_link=\"https://www.chotot.com/ha-noi/quan-hai-ba-trung/mua-ban?page={0}\".format(page)\n",
    "    browser.get(page_link)\n",
    "    time.sleep(5)\n",
    "    Item_links=browser.find_elements_by_xpath(\"\"\"//*[@id=\"app\"]/div[2]/main/div/div/div[1]/main/div/div[1]/div[6]/div/div[2]/ul/div/li/a\"\"\")\n",
    "    links_element=[]\n",
    "    #Lấy link của từng item\n",
    "    for link in Item_links:\n",
    "        links_element.append(link.get_attribute(\"href\"))\n",
    "    #Crawl dữ liệu của 20 item\n",
    "    for i in range(0,20):\n",
    "        start = time.time()\n",
    "        try:\n",
    "            browser.get(links_element[i])\n",
    "        except:\n",
    "        \tcontinue\n",
    "        time.sleep(1)\n",
    "        print(\"Crawl item \",i,\" in page \",page,\"....\",end=' ')\n",
    "        Crawl_item(i)\n",
    "        print(\"Done in \",time.time() - start,\"s.\")\n",
    "    time.sleep(2)\n",
    "file.close()"
   ]
  },
  {
   "cell_type": "code",
   "execution_count": null,
   "metadata": {},
   "outputs": [],
   "source": []
  }
 ],
 "metadata": {
  "kernelspec": {
   "display_name": "Python 3",
   "language": "python",
   "name": "python3"
  },
  "language_info": {
   "codemirror_mode": {
    "name": "ipython",
    "version": 3
   },
   "file_extension": ".py",
   "mimetype": "text/x-python",
   "name": "python",
   "nbconvert_exporter": "python",
   "pygments_lexer": "ipython3",
   "version": "3.7.0"
  }
 },
 "nbformat": 4,
 "nbformat_minor": 2
}
