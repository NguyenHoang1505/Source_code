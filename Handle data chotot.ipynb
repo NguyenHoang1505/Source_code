{
 "cells": [
  {
   "cell_type": "code",
   "execution_count": 1,
   "metadata": {},
   "outputs": [],
   "source": [
    "import pandas as pd\n",
    "import json    "
   ]
  },
  {
   "cell_type": "code",
   "execution_count": 2,
   "metadata": {},
   "outputs": [],
   "source": [
    "data = []\n",
    "with open('Data_huyen-ba-vi.json') as f:\n",
    "    for line in f:\n",
    "        data.append(json.loads(line))"
   ]
  },
  {
   "cell_type": "code",
   "execution_count": 3,
   "metadata": {},
   "outputs": [],
   "source": [
    "df = pd.DataFrame(data)"
   ]
  },
  {
   "cell_type": "code",
   "execution_count": 4,
   "metadata": {},
   "outputs": [],
   "source": [
    "data_handle=df.copy()\n",
    "data_handle['Loại khách hàng']=''\n",
    "data_handle['Số điện thoại']=''\n",
    "data_handle['Quận']=''\n",
    "data_handle['Loại mặt hàng']=''\n",
    "for i in range(data_handle.shape[0]):\n",
    "    try:\n",
    "        data_handle['SĐT'][i]= str(data_handle['SĐT'][i]).replace(\"0\",\"'0\",1)\n",
    "        copy=data_handle['Thời gian đăng'][i]\n",
    "        data_handle['Thời gian đăng'][i]=copy.split('đăng')[1]\n",
    "        data_handle['Loại khách hàng'][i]=copy.split('đăng')[0].split('Tin')[1]\n",
    "        data_handle['Quận'][i]=data_handle['Url'][i].split('/')[3]\n",
    "        data_handle['Loại mặt hàng'][i]=data_handle['Url'][i].split('/')[4]\n",
    "    except:\n",
    "        pass"
   ]
  },
  {
   "cell_type": "code",
   "execution_count": 5,
   "metadata": {},
   "outputs": [],
   "source": [
    "sequence = ['Stt','Id','Tên người dùng','SĐT','Địa chỉ','Khu vực','Quận','Mặt hàng','Loại mặt hàng','Giá','Loại tin','Thời gian đăng','Loại khách hàng','Mô tả','Url']\n",
    "data_handle = data_handle.reindex(columns=sequence)"
   ]
  },
  {
   "cell_type": "code",
   "execution_count": null,
   "metadata": {},
   "outputs": [],
   "source": []
  }
 ],
 "metadata": {
  "kernelspec": {
   "display_name": "Python 3",
   "language": "python",
   "name": "python3"
  },
  "language_info": {
   "codemirror_mode": {
    "name": "ipython",
    "version": 3
   },
   "file_extension": ".py",
   "mimetype": "text/x-python",
   "name": "python",
   "nbconvert_exporter": "python",
   "pygments_lexer": "ipython3",
   "version": "3.7.0"
  }
 },
 "nbformat": 4,
 "nbformat_minor": 2
}
